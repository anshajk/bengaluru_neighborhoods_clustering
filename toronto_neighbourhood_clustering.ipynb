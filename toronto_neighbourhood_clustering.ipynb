{
  "nbformat": 4,
  "nbformat_minor": 0,
  "metadata": {
    "colab": {
      "name": "toronto_neighbourhood_clustering.ipynb",
      "version": "0.3.2",
      "provenance": [],
      "collapsed_sections": [],
      "include_colab_link": true
    },
    "kernelspec": {
      "name": "python3",
      "display_name": "Python 3"
    }
  },
  "cells": [
    {
      "cell_type": "markdown",
      "metadata": {
        "id": "view-in-github",
        "colab_type": "text"
      },
      "source": [
        "<a href=\"https://colab.research.google.com/github/fulcrum3/Coursera_Capstone/blob/master/toronto_neighbourhood_clustering.ipynb\" target=\"_parent\"><img src=\"https://colab.research.google.com/assets/colab-badge.svg\" alt=\"Open In Colab\"/></a>"
      ]
    },
    {
      "metadata": {
        "id": "3Dg-H8QasrCY",
        "colab_type": "text"
      },
      "cell_type": "markdown",
      "source": [
        "# Toronto Neighbourhoods Clustering\n",
        "This notebook contains my work for the week 3 assignment of the IBM Capstone course. The objective is to scrape toronto neighbourhood data from wikipedia, cluster it using **k means clustering** and present it using a graphing library."
      ]
    },
    {
      "metadata": {
        "id": "SA2srtJPnwU_",
        "colab_type": "code",
        "colab": {}
      },
      "cell_type": "code",
      "source": [
        "import requests\n",
        "from bs4 import BeautifulSoup\n",
        "import pandas as pd\n",
        "import numpy as np"
      ],
      "execution_count": 0,
      "outputs": []
    },
    {
      "metadata": {
        "id": "wTtJPrcZwvPp",
        "colab_type": "text"
      },
      "cell_type": "markdown",
      "source": [
        "## Scraping data with beautiful soup\n",
        "Scraping data from [here](https://en.wikipedia.org/wiki/List_of_postal_codes_of_Canada:_M) and processing it into pandas dataframe"
      ]
    },
    {
      "metadata": {
        "id": "4dEmlNGzptyl",
        "colab_type": "code",
        "colab": {
          "base_uri": "https://localhost:8080/",
          "height": 221
        },
        "outputId": "511047e3-6492-4c10-c512-4a08984cf62b"
      },
      "cell_type": "code",
      "source": [
        "source = requests.get('https://en.wikipedia.org/wiki/List_of_postal_codes_of_Canada:_M').text\n",
        "soup = BeautifulSoup(source, 'lxml')\n",
        "table = soup.find('table')\n",
        "table_rows = table.find_all('tr')\n",
        "l = []\n",
        "for tr in table_rows:\n",
        "    td = tr.find_all('td')\n",
        "    row = [tr.text for tr in td]\n",
        "    l.append(row)\n",
        "neighbourhoods = pd.DataFrame(l, columns=[\"PostCode\", \"Borough\", \"Neighbourhood\"])\n",
        "neighbourhoods = neighbourhoods.replace('\\n','', regex=True)\n",
        "neighbourhoods = neighbourhoods.drop(neighbourhoods.index[0])\n",
        "print('Table Shape:', neighbourhoods.shape)\n",
        "neighbourhoods.head()"
      ],
      "execution_count": 52,
      "outputs": [
        {
          "output_type": "stream",
          "text": [
            "Table Shape: (288, 3)\n"
          ],
          "name": "stdout"
        },
        {
          "output_type": "execute_result",
          "data": {
            "text/html": [
              "<div>\n",
              "<style scoped>\n",
              "    .dataframe tbody tr th:only-of-type {\n",
              "        vertical-align: middle;\n",
              "    }\n",
              "\n",
              "    .dataframe tbody tr th {\n",
              "        vertical-align: top;\n",
              "    }\n",
              "\n",
              "    .dataframe thead th {\n",
              "        text-align: right;\n",
              "    }\n",
              "</style>\n",
              "<table border=\"1\" class=\"dataframe\">\n",
              "  <thead>\n",
              "    <tr style=\"text-align: right;\">\n",
              "      <th></th>\n",
              "      <th>PostCode</th>\n",
              "      <th>Borough</th>\n",
              "      <th>Neighbourhood</th>\n",
              "    </tr>\n",
              "  </thead>\n",
              "  <tbody>\n",
              "    <tr>\n",
              "      <th>1</th>\n",
              "      <td>M1A</td>\n",
              "      <td>Not assigned</td>\n",
              "      <td>Not assigned</td>\n",
              "    </tr>\n",
              "    <tr>\n",
              "      <th>2</th>\n",
              "      <td>M2A</td>\n",
              "      <td>Not assigned</td>\n",
              "      <td>Not assigned</td>\n",
              "    </tr>\n",
              "    <tr>\n",
              "      <th>3</th>\n",
              "      <td>M3A</td>\n",
              "      <td>North York</td>\n",
              "      <td>Parkwoods</td>\n",
              "    </tr>\n",
              "    <tr>\n",
              "      <th>4</th>\n",
              "      <td>M4A</td>\n",
              "      <td>North York</td>\n",
              "      <td>Victoria Village</td>\n",
              "    </tr>\n",
              "    <tr>\n",
              "      <th>5</th>\n",
              "      <td>M5A</td>\n",
              "      <td>Downtown Toronto</td>\n",
              "      <td>Harbourfront</td>\n",
              "    </tr>\n",
              "  </tbody>\n",
              "</table>\n",
              "</div>"
            ],
            "text/plain": [
              "  PostCode           Borough     Neighbourhood\n",
              "1      M1A      Not assigned      Not assigned\n",
              "2      M2A      Not assigned      Not assigned\n",
              "3      M3A        North York         Parkwoods\n",
              "4      M4A        North York  Victoria Village\n",
              "5      M5A  Downtown Toronto      Harbourfront"
            ]
          },
          "metadata": {
            "tags": []
          },
          "execution_count": 52
        }
      ]
    },
    {
      "metadata": {
        "id": "N07_wVXMrNtf",
        "colab_type": "text"
      },
      "cell_type": "markdown",
      "source": [
        "## Cleaning the data"
      ]
    },
    {
      "metadata": {
        "id": "lHeWFI-HxWRX",
        "colab_type": "code",
        "colab": {
          "base_uri": "https://localhost:8080/",
          "height": 221
        },
        "outputId": "63b61bde-8f98-4f96-e706-1e615493d54c"
      },
      "cell_type": "code",
      "source": [
        "# Removing cells that haven't been assigned a borough\n",
        "neighbourhoods = neighbourhoods[~(neighbourhoods[\"Borough\"] == 'Not assigned')]\n",
        "neighbourhoods  = neighbourhoods.groupby(['PostCode', 'Borough'])['Neighbourhood'].apply(','.join).reset_index()\n",
        "neighbourhoods['Neighbourhood'] = np.where(neighbourhoods['Neighbourhood'] == 'Not assigned', \n",
        "                                           neighbourhoods['Borough'], \n",
        "                                           neighbourhoods['Neighbourhood']) \n",
        "print(\"Table shape after cleaning: \", neighbourhoods.shape)\n",
        "neighbourhoods.head()"
      ],
      "execution_count": 53,
      "outputs": [
        {
          "output_type": "stream",
          "text": [
            "Table shape after cleaning:  (103, 3)\n"
          ],
          "name": "stdout"
        },
        {
          "output_type": "execute_result",
          "data": {
            "text/html": [
              "<div>\n",
              "<style scoped>\n",
              "    .dataframe tbody tr th:only-of-type {\n",
              "        vertical-align: middle;\n",
              "    }\n",
              "\n",
              "    .dataframe tbody tr th {\n",
              "        vertical-align: top;\n",
              "    }\n",
              "\n",
              "    .dataframe thead th {\n",
              "        text-align: right;\n",
              "    }\n",
              "</style>\n",
              "<table border=\"1\" class=\"dataframe\">\n",
              "  <thead>\n",
              "    <tr style=\"text-align: right;\">\n",
              "      <th></th>\n",
              "      <th>PostCode</th>\n",
              "      <th>Borough</th>\n",
              "      <th>Neighbourhood</th>\n",
              "    </tr>\n",
              "  </thead>\n",
              "  <tbody>\n",
              "    <tr>\n",
              "      <th>0</th>\n",
              "      <td>M1B</td>\n",
              "      <td>Scarborough</td>\n",
              "      <td>Rouge,Malvern</td>\n",
              "    </tr>\n",
              "    <tr>\n",
              "      <th>1</th>\n",
              "      <td>M1C</td>\n",
              "      <td>Scarborough</td>\n",
              "      <td>Highland Creek,Rouge Hill,Port Union</td>\n",
              "    </tr>\n",
              "    <tr>\n",
              "      <th>2</th>\n",
              "      <td>M1E</td>\n",
              "      <td>Scarborough</td>\n",
              "      <td>Guildwood,Morningside,West Hill</td>\n",
              "    </tr>\n",
              "    <tr>\n",
              "      <th>3</th>\n",
              "      <td>M1G</td>\n",
              "      <td>Scarborough</td>\n",
              "      <td>Woburn</td>\n",
              "    </tr>\n",
              "    <tr>\n",
              "      <th>4</th>\n",
              "      <td>M1H</td>\n",
              "      <td>Scarborough</td>\n",
              "      <td>Cedarbrae</td>\n",
              "    </tr>\n",
              "  </tbody>\n",
              "</table>\n",
              "</div>"
            ],
            "text/plain": [
              "  PostCode      Borough                         Neighbourhood\n",
              "0      M1B  Scarborough                         Rouge,Malvern\n",
              "1      M1C  Scarborough  Highland Creek,Rouge Hill,Port Union\n",
              "2      M1E  Scarborough       Guildwood,Morningside,West Hill\n",
              "3      M1G  Scarborough                                Woburn\n",
              "4      M1H  Scarborough                             Cedarbrae"
            ]
          },
          "metadata": {
            "tags": []
          },
          "execution_count": 53
        }
      ]
    }
  ]
}